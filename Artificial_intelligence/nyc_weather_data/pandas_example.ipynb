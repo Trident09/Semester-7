{
  "cells": [
    {
      "cell_type": "code",
      "execution_count": 1,
      "metadata": {
        "colab": {
          "base_uri": "https://localhost:8080/"
        },
        "id": "muKMC3wX7YP0",
        "outputId": "5a22fff2-e1a3-4f72-d40b-971a19708fae"
      },
      "outputs": [
        {
          "name": "stdout",
          "output_type": "stream",
          "text": [
            "Drive already mounted at /content/drive; to attempt to forcibly remount, call drive.mount(\"/content/drive\", force_remount=True).\n"
          ]
        }
      ],
      "source": [
        "from google.colab import drive\n",
        "drive.mount('/content/drive')"
      ]
    },
    {
      "cell_type": "code",
      "execution_count": 2,
      "metadata": {
        "id": "98qexVO38WA_"
      },
      "outputs": [],
      "source": [
        "import pandas as pd\n",
        "\n",
        "# Load your dataset\n",
        "df = pd.read_csv('/content/drive/MyDrive/Colab Notebooks/Files/nyc_weather.csv')  # Replace with your actual file path\n"
      ]
    },
    {
      "cell_type": "code",
      "execution_count": 3,
      "metadata": {
        "colab": {
          "base_uri": "https://localhost:8080/"
        },
        "id": "0Wt_ox-S8olt",
        "outputId": "0365781b-63a8-4b30-83ce-5c0618056836"
      },
      "outputs": [
        {
          "name": "stdout",
          "output_type": "stream",
          "text": [
            "Dimensions: (31, 11)\n"
          ]
        }
      ],
      "source": [
        "# Get dimensions\n",
        "dimensions = df.shape\n",
        "print(f'Dimensions: {dimensions}')  # (rows, columns)\n"
      ]
    },
    {
      "cell_type": "code",
      "execution_count": 4,
      "metadata": {
        "colab": {
          "base_uri": "https://localhost:8080/"
        },
        "id": "3AjeB-K089xC",
        "outputId": "2973fe36-a789-43db-b7b9-4d89c53869c2"
      },
      "outputs": [
        {
          "name": "stdout",
          "output_type": "stream",
          "text": [
            "Initial 5 rows:\n",
            "        EST  Temperature  DewPoint  Humidity  Sea Level PressureIn  \\\n",
            "0  1/1/2016           38        23        52                 30.03   \n",
            "1  1/2/2016           36        18        46                 30.02   \n",
            "2  1/3/2016           40        21        47                 29.86   \n",
            "3  1/4/2016           25         9        44                 30.05   \n",
            "4  1/5/2016           20        -3        41                 30.57   \n",
            "\n",
            "   VisibilityMiles  WindSpeedMPH PrecipitationIn  CloudCover Events  \\\n",
            "0               10           8.0               0           5    NaN   \n",
            "1               10           7.0               0           3    NaN   \n",
            "2               10           8.0               0           1    NaN   \n",
            "3               10           9.0               0           3    NaN   \n",
            "4               10           5.0               0           0    NaN   \n",
            "\n",
            "   WindDirDegrees  \n",
            "0             281  \n",
            "1             275  \n",
            "2             277  \n",
            "3             345  \n",
            "4             333  \n",
            "Last 5 rows:\n",
            "          EST  Temperature  DewPoint  Humidity  Sea Level PressureIn  \\\n",
            "26  1/27/2016           41        22        45                 30.03   \n",
            "27  1/28/2016           37        20        51                 29.90   \n",
            "28  1/29/2016           36        21        50                 29.58   \n",
            "29  1/30/2016           34        16        46                 30.01   \n",
            "30  1/31/2016           46        28        52                 29.90   \n",
            "\n",
            "    VisibilityMiles  WindSpeedMPH PrecipitationIn  CloudCover Events  \\\n",
            "26               10           7.0               T           3   Rain   \n",
            "27               10           5.0               0           1    NaN   \n",
            "28               10           8.0               0           4    NaN   \n",
            "29               10           7.0               0           0    NaN   \n",
            "30               10           5.0               0           0    NaN   \n",
            "\n",
            "    WindDirDegrees  \n",
            "26             311  \n",
            "27             234  \n",
            "28             298  \n",
            "29             257  \n",
            "30             241  \n"
          ]
        }
      ],
      "source": [
        "# Print initial 5 rows\n",
        "print(\"Initial 5 rows:\")\n",
        "print(df.head())\n",
        "\n",
        "# Print last 5 rows\n",
        "print(\"Last 5 rows:\")\n",
        "print(df.tail())\n"
      ]
    },
    {
      "cell_type": "code",
      "execution_count": 5,
      "metadata": {
        "colab": {
          "base_uri": "https://localhost:8080/"
        },
        "id": "xhNii3WK9CP2",
        "outputId": "7359266c-524d-411c-ce7e-8a655963c23e"
      },
      "outputs": [
        {
          "name": "stdout",
          "output_type": "stream",
          "text": [
            "2nd to 5th columns:\n",
            "    Temperature  DewPoint  Humidity  Sea Level PressureIn\n",
            "0            38        23        52                 30.03\n",
            "1            36        18        46                 30.02\n",
            "2            40        21        47                 29.86\n",
            "3            25         9        44                 30.05\n",
            "4            20        -3        41                 30.57\n",
            "5            33         4        35                 30.50\n",
            "6            39        11        33                 30.28\n",
            "7            39        29        64                 30.20\n",
            "8            44        38        77                 30.16\n",
            "9            50        46        71                 29.59\n",
            "10           33         8        37                 29.92\n",
            "11           35        15        53                 29.85\n",
            "12           26         4        42                 29.94\n",
            "13           30        12        47                 29.95\n",
            "14           43        31        62                 29.82\n",
            "15           47        37        70                 29.52\n",
            "16           36        23        66                 29.78\n",
            "17           25         6        53                 29.83\n",
            "18           22         3        42                 30.03\n",
            "19           32        15        49                 30.13\n",
            "20           31        11        45                 30.15\n",
            "21           26         6        41                 30.21\n",
            "22           26        21        78                 29.77\n",
            "23           28        11        53                 29.92\n",
            "24           34        18        54                 30.25\n",
            "25           43        29        56                 30.03\n",
            "26           41        22        45                 30.03\n",
            "27           37        20        51                 29.90\n",
            "28           36        21        50                 29.58\n",
            "29           34        16        46                 30.01\n",
            "30           46        28        52                 29.90\n"
          ]
        }
      ],
      "source": [
        "# Print 2nd to 5th columns (index 1 to 4)\n",
        "print(\"2nd to 5th columns:\")\n",
        "print(df.iloc[:, 1:5])\n"
      ]
    },
    {
      "cell_type": "code",
      "execution_count": 6,
      "metadata": {
        "colab": {
          "base_uri": "https://localhost:8080/"
        },
        "id": "fZS5cztQ9HSb",
        "outputId": "0f00647f-c36a-497a-8cff-213f9f4636ad"
      },
      "outputs": [
        {
          "name": "stdout",
          "output_type": "stream",
          "text": [
            "Column names:\n",
            "['EST', 'Temperature', 'DewPoint', 'Humidity', 'Sea Level PressureIn', 'VisibilityMiles', 'WindSpeedMPH', 'PrecipitationIn', 'CloudCover', 'Events', 'WindDirDegrees']\n"
          ]
        }
      ],
      "source": [
        "# Print all column names\n",
        "print(\"Column names:\")\n",
        "print(df.columns.tolist())\n"
      ]
    },
    {
      "cell_type": "code",
      "execution_count": 8,
      "metadata": {
        "colab": {
          "base_uri": "https://localhost:8080/"
        },
        "id": "eB07YFJa9PFg",
        "outputId": "26e05fdb-171d-4f93-ff38-22a8c5b1f9de"
      },
      "outputs": [
        {
          "name": "stdout",
          "output_type": "stream",
          "text": [
            "All temperatures:\n",
            "0     38\n",
            "1     36\n",
            "2     40\n",
            "3     25\n",
            "4     20\n",
            "5     33\n",
            "6     39\n",
            "7     39\n",
            "8     44\n",
            "9     50\n",
            "10    33\n",
            "11    35\n",
            "12    26\n",
            "13    30\n",
            "14    43\n",
            "15    47\n",
            "16    36\n",
            "17    25\n",
            "18    22\n",
            "19    32\n",
            "20    31\n",
            "21    26\n",
            "22    26\n",
            "23    28\n",
            "24    34\n",
            "25    43\n",
            "26    41\n",
            "27    37\n",
            "28    36\n",
            "29    34\n",
            "30    46\n",
            "Name: Temperature, dtype: int64\n"
          ]
        }
      ],
      "source": [
        "# Get all temperature data\n",
        "temperatures = df['Temperature']  # Replace 'temperature' with the actual column name\n",
        "print(\"All temperatures:\")\n",
        "print(temperatures)\n"
      ]
    },
    {
      "cell_type": "code",
      "execution_count": 10,
      "metadata": {
        "colab": {
          "base_uri": "https://localhost:8080/"
        },
        "id": "i3dKGeNZ9_um",
        "outputId": "f9c2efa1-dc02-4bbd-ad4f-9e3af5dc3f9a"
      },
      "outputs": [
        {
          "name": "stdout",
          "output_type": "stream",
          "text": [
            "Max Temperature: 50\n",
            "Min Temperature: 20\n",
            "Descriptive statistics:\n",
            "count    31.000000\n",
            "mean     34.677419\n",
            "std       7.639315\n",
            "min      20.000000\n",
            "25%      29.000000\n",
            "50%      35.000000\n",
            "75%      39.500000\n",
            "max      50.000000\n",
            "Name: Temperature, dtype: float64\n"
          ]
        }
      ],
      "source": [
        "# Print max and min temperature\n",
        "max_temp = df['Temperature'].max()\n",
        "min_temp = df['Temperature'].min()\n",
        "print(f'Max Temperature: {max_temp}')\n",
        "print(f'Min Temperature: {min_temp}')\n",
        "\n",
        "# Print descriptive statistics\n",
        "print(\"Descriptive statistics:\")\n",
        "print(df['Temperature'].describe())\n"
      ]
    },
    {
      "cell_type": "code",
      "execution_count": 11,
      "metadata": {
        "colab": {
          "base_uri": "https://localhost:8080/"
        },
        "id": "TFp_Bz0T-KQv",
        "outputId": "82314b99-4ac8-49c2-88ea-eb0af911c08e"
      },
      "outputs": [
        {
          "name": "stdout",
          "output_type": "stream",
          "text": [
            "Rows with max temperature:\n",
            "         EST  Temperature  DewPoint  Humidity  Sea Level PressureIn  \\\n",
            "9  1/10/2016           50        46        71                 29.59   \n",
            "\n",
            "   VisibilityMiles  WindSpeedMPH PrecipitationIn  CloudCover Events  \\\n",
            "9                4           NaN             1.8           7   Rain   \n",
            "\n",
            "   WindDirDegrees  \n",
            "9             109  \n"
          ]
        }
      ],
      "source": [
        "# Select rows with max temperature\n",
        "max_temp_rows = df[df['Temperature'] == max_temp]\n",
        "print(\"Rows with max temperature:\")\n",
        "print(max_temp_rows)\n"
      ]
    },
    {
      "cell_type": "code",
      "execution_count": 12,
      "metadata": {
        "colab": {
          "base_uri": "https://localhost:8080/"
        },
        "id": "icS4hq9N-OZk",
        "outputId": "2e296ca0-c7c1-4991-eb7d-d354068c57a6"
      },
      "outputs": [
        {
          "name": "stdout",
          "output_type": "stream",
          "text": [
            "Day with max temperature:\n",
            "9    1/10/2016\n",
            "Name: EST, dtype: object\n"
          ]
        }
      ],
      "source": [
        "# Select the day showing max temperature\n",
        "max_temp_day = df.loc[df['Temperature'] == max_temp, 'EST']  # Replace 'date' with the actual column name\n",
        "print(\"Day with max temperature:\")\n",
        "print(max_temp_day)\n"
      ]
    }
  ],
  "metadata": {
    "colab": {
      "provenance": []
    },
    "kernelspec": {
      "display_name": "Python 3",
      "name": "python3"
    },
    "language_info": {
      "name": "python"
    }
  },
  "nbformat": 4,
  "nbformat_minor": 0
}
